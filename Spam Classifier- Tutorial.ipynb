{
 "cells": [{
   "cell_type": "code",
   "execution_count": 1,
   "metadata": {},
   "outputs": [],
   "source": [
    "import pandas as pd\n",
    "from nltk.corpus import stopwords\n",
    "from nltk import WordNetLemmatizer\n",
    "from nltk import pos_tag, word_tokenize\n",
    "from nltk.stem import WordNetLemmatizer\n",
    "import re\n",
    "from sklearn.base import BaseEstimator, TransformerMixin"
   ]
  },
  {
   "cell_type": "code",
   "execution_count": 2,
   "metadata": {},
   "outputs": [],
   "source": [
    "df= pd.read_csv(\"C:\\\\Users\\\\rohit.a\\\\Downloads\\\\spam_sms\\\\spam.csv\", encoding='ISO-8859-1')"
   ]
  },
  {
   "cell_type": "code",
   "execution_count": 3,
   "metadata": {},
   "outputs": [],
   "source": [
    "cols=['Unnamed: 2','Unnamed: 3','Unnamed: 4']\n",
    "df.drop(cols,axis=1,inplace=True)"
   ]
  },
  {
   "cell_type": "code",
   "execution_count": 4,
   "metadata": {},
   "outputs": [],
   "source": [
    "df.rename(columns={'v1': 'Label', 'v2': 'Message'}, inplace=True)"
   ]
  },
  {
   "cell_type": "code",
   "execution_count": 5,
   "metadata": {},
   "outputs": [
    {
     "data": {
      "text/plain": [
       "(5572, 2)"
      ]
     },
     "execution_count": 5,
     "metadata": {},
     "output_type": "execute_result"
    }
   ],
   "source": [
    "df.shape"
   ]
  },
  {
   "cell_type": "code",
   "execution_count": null,
   "metadata": {},
   "outputs": [],
   "source": []
  },
  {
   "cell_type": "code",
   "execution_count": null,
   "metadata": {},
   "outputs": [],
   "source": []
  },
  {
   "cell_type": "markdown",
   "metadata": {},
   "source": [
    "#### Create Custom Transformer for selecting columns from Pandas dataframe and a transformer for encoding labels"
   ]
  },
  {
   "cell_type": "code",
   "execution_count": 6,
   "metadata": {},
   "outputs": [],
   "source": [
    "class DataFrameSelector(BaseEstimator, TransformerMixin):\n",
    "    def __init__(self, attribute_name):\n",
    "        self.attribute_name=attribute_name\n",
    "    def fit(self,X,y=None):\n",
    "        return self\n",
    "    def transform(self, X):\n",
    "        print (X[self.attribute_name].values)\n",
    "        return X[self.attribute_name].values\n",
    "    \n",
    "class MyLabelBinarizer(TransformerMixin):\n",
    "    def __init__(self, *args, **kwargs):\n",
    "        self.encoder = LabelBinarizer(*args, **kwargs)\n",
    "    def fit(self, x, y=0):\n",
    "        self.encoder.fit(x)\n",
    "        return self\n",
    "    def transform(self, x, y=0):\n",
    "        return self.encoder.transform(x)"
   ]
  },
  {
   "cell_type": "markdown",
   "metadata": {},
   "source": [
    "#### Create Custom Transformer for cleaning data"
   ]
  },
  {
   "cell_type": "code",
   "execution_count": 7,
   "metadata": {},
   "outputs": [],
   "source": [
    "class NLTK_Preprocessing_Module(BaseEstimator, TransformerMixin):\n",
    "    \n",
    "    def fit(self,X,y=None):\n",
    "        return self\n",
    "    \n",
    "    def transform(self,X):\n",
    "        return (self.helperFunction(X))\n",
    "    \n",
    "    def lemmatize_all(self,sentence):\n",
    "        \n",
    "        wnl = WordNetLemmatizer()\n",
    "        for word, tag in pos_tag(word_tokenize(sentence)):\n",
    "            if tag.startswith(\"NN\"):\n",
    "                yield wnl.lemmatize(word, pos='n')\n",
    "            elif tag.startswith('VB'):\n",
    "                yield wnl.lemmatize(word, pos='v')\n",
    "            elif tag.startswith('JJ'):\n",
    "                yield wnl.lemmatize(word, pos='a')\n",
    "            elif tag.startswith('R'):\n",
    "                yield wnl.lemmatize(word, pos='r')\n",
    "            else:\n",
    "                yield word\n",
    "            \n",
    "    def msgProcessing(self,raw_msg):\n",
    "        \n",
    "        meaningful_words=[]\n",
    "        words2=[]\n",
    "        raw_msg = str(raw_msg.lower())\n",
    "        raw_msg=re.sub(r'[^a-z\\s]', ' ', raw_msg)\n",
    "        words=raw_msg.split()\n",
    "        \"\"\"Remove words with length lesser than 2\"\"\"\n",
    "        for i in words:\n",
    "            if len(i)>=2:\n",
    "                words2.append(i)\n",
    "        stops=set(stopwords.words('english'))\n",
    "        meaningful_words=\" \".join([w for w in words2 if not w in stops])\n",
    "        return(\" \".join(self.lemmatize_all(meaningful_words)))\n",
    "\n",
    "\n",
    "    def helperFunction(self,df):\n",
    "        \n",
    "        print (\"Data Preprocessing!!!\")\n",
    "        cols=['Message']\n",
    "        df=df[cols]\n",
    "        df.Message.replace({r'[^\\x00-\\x7F]+':''},regex=True,inplace=True)\n",
    "        num_msg=df[cols].size\n",
    "        clean_msg=[]\n",
    "        for i in range(0,num_msg):\n",
    "            clean_msg.append(self.msgProcessing(df['Message'][i]))\n",
    "        df['Processed_msg']=clean_msg\n",
    "        X=df['Processed_msg']\n",
    "        print (\"Data Preprocessing Ends!!!\")\n",
    "        return X"
   ]
  },
  {
   "cell_type": "code",
   "execution_count": null,
   "metadata": {},
   "outputs": [],
   "source": []
  },
  {
   "cell_type": "code",
   "execution_count": 8,
   "metadata": {},
   "outputs": [],
   "source": [
    "from sklearn.pipeline import Pipeline, FeatureUnion\n",
    "from sklearn.preprocessing import LabelBinarizer\n",
    "label=[\"Label\"]\n",
    "pipeline1=Pipeline([(\"nltk\",NLTK_Preprocessing_Module()),])\n",
    "\n",
    "pipeline2=Pipeline([(\"dataframe_selector\",DataFrameSelector(label)),\n",
    "                    (\"label binarizer\",MyLabelBinarizer()),])\n"
   ]
  },
  {
   "cell_type": "code",
   "execution_count": 9,
   "metadata": {},
   "outputs": [
    {
     "name": "stdout",
     "output_type": "stream",
     "text": [
      "Data Preprocessing!!!\n"
     ]
    },
    {
     "name": "stderr",
     "output_type": "stream",
     "text": [
      "C:\\Users\\rohit.a\\AppData\\Local\\Continuum\\anaconda3\\lib\\site-packages\\pandas\\core\\generic.py:4619: SettingWithCopyWarning: \n",
      "A value is trying to be set on a copy of a slice from a DataFrame\n",
      "\n",
      "See the caveats in the documentation: http://pandas.pydata.org/pandas-docs/stable/indexing.html#indexing-view-versus-copy\n",
      "  self._update_inplace(new_data)\n"
     ]
    },
    {
     "name": "stdout",
     "output_type": "stream",
     "text": [
      "Data Preprocessing Ends!!!\n"
     ]
    }
   ],
   "source": [
    "data_prepared=pipeline1.fit_transform(df)"
   ]
  },
  {
   "cell_type": "code",
   "execution_count": 10,
   "metadata": {},
   "outputs": [
    {
     "name": "stdout",
     "output_type": "stream",
     "text": [
      "[['ham']\n",
      " ['ham']\n",
      " ['spam']\n",
      " ...\n",
      " ['ham']\n",
      " ['ham']\n",
      " ['ham']]\n"
     ]
    }
   ],
   "source": [
    "encoded_label=pipeline2.fit_transform(df)"
   ]
  },
  {
   "cell_type": "code",
   "execution_count": 11,
   "metadata": {},
   "outputs": [],
   "source": [
    "from sklearn.model_selection import train_test_split\n",
    "xtrain,xval,ytrain,yval= train_test_split(data_prepared,encoded_label,test_size=0.2, random_state=42)\n"
   ]
  },
  {
   "cell_type": "markdown",
   "metadata": {},
   "source": [
    "#### Convert text data to vectors using CountVectorizer"
   ]
  },
  {
   "cell_type": "code",
   "execution_count": 12,
   "metadata": {},
   "outputs": [],
   "source": [
    "from sklearn.feature_extraction.text import CountVectorizer\n",
    "\n",
    "def vectorizer(train,test):\n",
    "    vectorizer= CountVectorizer(analyzer=\"word\", tokenizer= None, preprocessor= None, stop_words= None, max_features=6000)\n",
    "    train_data_features= vectorizer.fit_transform(train)\n",
    "    train_data_features= train_data_features.toarray()\n",
    "    test_data_features=vectorizer.transform(test)\n",
    "    test_data_features=test_data_features.toarray()\n",
    "    return train_data_features,test_data_features"
   ]
  },
  {
   "cell_type": "code",
   "execution_count": 13,
   "metadata": {},
   "outputs": [],
   "source": [
    "xtrain_vector,xval_vector=vectorizer(xtrain,xval)"
   ]
  },
  {
   "cell_type": "markdown",
   "metadata": {},
   "source": [
    "## Training various classifiers\n",
    "Here I am going to choose four classifiers.\n",
    "#### 1. Naive Bayes\n",
    "#### 2. Decision Tree\n",
    "#### 3. Random Forest\n",
    "#### 4. Support Vector Machine\n",
    "\n",
    "Train various classifiers using default hyperparameters and check how well they perform using k-cross validation."
   ]
  },
  {
   "cell_type": "code",
   "execution_count": 14,
   "metadata": {},
   "outputs": [],
   "source": [
    "from sklearn.naive_bayes import MultinomialNB\n",
    "from sklearn.tree import DecisionTreeClassifier\n",
    "from sklearn.ensemble import RandomForestClassifier\n",
    "from sklearn import svm\n",
    "from sklearn.model_selection import cross_val_predict"
   ]
  },
  {
   "cell_type": "code",
   "execution_count": 15,
   "metadata": {},
   "outputs": [],
   "source": [
    "MNB=MultinomialNB()\n",
    "DT=DecisionTreeClassifier()\n",
    "RF=RandomForestClassifier()\n",
    "SVM=svm.SVC()"
   ]
  },
  {
   "cell_type": "code",
   "execution_count": 16,
   "metadata": {},
   "outputs": [
    {
     "name": "stderr",
     "output_type": "stream",
     "text": [
      "C:\\Users\\rohit.a\\AppData\\Local\\Continuum\\anaconda3\\lib\\site-packages\\sklearn\\preprocessing\\label.py:111: DataConversionWarning: A column-vector y was passed when a 1d array was expected. Please change the shape of y to (n_samples, ), for example using ravel().\n",
      "  y = column_or_1d(y, warn=True)\n",
      "C:\\Users\\rohit.a\\AppData\\Local\\Continuum\\anaconda3\\lib\\site-packages\\sklearn\\preprocessing\\label.py:111: DataConversionWarning: A column-vector y was passed when a 1d array was expected. Please change the shape of y to (n_samples, ), for example using ravel().\n",
      "  y = column_or_1d(y, warn=True)\n",
      "C:\\Users\\rohit.a\\AppData\\Local\\Continuum\\anaconda3\\lib\\site-packages\\sklearn\\preprocessing\\label.py:111: DataConversionWarning: A column-vector y was passed when a 1d array was expected. Please change the shape of y to (n_samples, ), for example using ravel().\n",
      "  y = column_or_1d(y, warn=True)\n",
      "C:\\Users\\rohit.a\\AppData\\Local\\Continuum\\anaconda3\\lib\\site-packages\\sklearn\\preprocessing\\label.py:111: DataConversionWarning: A column-vector y was passed when a 1d array was expected. Please change the shape of y to (n_samples, ), for example using ravel().\n",
      "  y = column_or_1d(y, warn=True)\n"
     ]
    }
   ],
   "source": [
    "MNB_scores=cross_val_predict(MNB, xtrain_vector, ytrain,cv=5,method=\"predict_proba\")\n",
    "DT_scores=cross_val_predict(DT, xtrain_vector, ytrain,cv=5,method=\"predict_proba\")\n",
    "RF_scores=cross_val_predict(RF, xtrain_vector, ytrain,cv=5,method=\"predict_proba\")\n",
    "SVM_scores=cross_val_predict(SVM, xtrain_vector, ytrain,cv=5,method=\"decision_function\")"
   ]
  },
  {
   "cell_type": "code",
   "execution_count": 17,
   "metadata": {},
   "outputs": [],
   "source": [
    "MNB_scores1=MNB_scores[:,1]\n",
    "DT_scores1=DT_scores[:,1]\n",
    "RF_scores1=RF_scores[:,1]\n",
    "SVM_scores1=SVM_scores"
   ]
  },
  {
   "cell_type": "markdown",
   "metadata": {},
   "source": [
    "## Plot Receiver Output Characteristic (ROC) Curve\n",
    "Calculate FPR (False Positive Rate) and TPR (True Positive Rate) for generating the ROC Curve."
   ]
  },
  {
   "cell_type": "code",
   "execution_count": 18,
   "metadata": {},
   "outputs": [],
   "source": [
    "from sklearn.metrics import roc_curve\n",
    "fpr_MNB,tpr_MNB,threshold_MNB=roc_curve(ytrain, MNB_scores1)\n",
    "fpr_DT,tpr_DT,threshold_DT=roc_curve(ytrain, DT_scores1)\n",
    "fpr_RF,tpr_RF,threshold_RF=roc_curve(ytrain, RF_scores1)\n",
    "fpr_SVM,tpr_SVM,threshold_SVM=roc_curve(ytrain, SVM_scores1)"
   ]
  },
  {
   "cell_type": "code",
   "execution_count": 19,
   "metadata": {},
   "outputs": [],
   "source": [
    "import matplotlib.pyplot as plt\n",
    "def plot_roc_curve(fpr,tpr,label=None):\n",
    "    plt.plot(fpr,tpr,linewidth=2,label=label)\n",
    "    plt.plot([0,1],[0,1],'k--')\n",
    "    plt.axis([0,1,0,1])\n",
    "    plt.xlabel('False Positive Rate')\n",
    "    plt.ylabel('True Positive Label')\n",
    "    plt.legend(loc=\"lower right\")\n",
    "    "
   ]
  },
  {
   "cell_type": "code",
   "execution_count": 20,
   "metadata": {},
   "outputs": [
    {
     "data": {
      "image/png": "[encoded data removed]",
      "text/plain": [
       "<matplotlib.figure.Figure at 0x24b28af7160>"
      ]
     },
     "metadata": {},
     "output_type": "display_data"
    }
   ],
   "source": [
    "plot_roc_curve(fpr_MNB,tpr_MNB,\"Multinomial\")\n",
    "plot_roc_curve(fpr_DT,tpr_DT,\"DT\")\n",
    "plot_roc_curve(fpr_RF,tpr_RF,\"RF\")\n",
    "plot_roc_curve(fpr_SVM,tpr_SVM,\"SVM\")"
   ]
  },
  {
   "cell_type": "markdown",
   "metadata": {},
   "source": [
    "There is a tradeoff between TPR and FPR. Higher the TPR, higher will be the FPR. A good classifier will stay as far away from the dotted lines, ie to the top left corner. To check which classifier performs better, calculate the Area Under Curve score. A good classifier wil have ROC AUC score 1. "
   ]
  },
  {
   "cell_type": "code",
   "execution_count": 21,
   "metadata": {},
   "outputs": [],
   "source": [
    "from sklearn.metrics import roc_auc_score\n",
    "auc_MNB=roc_auc_score(ytrain, MNB_scores1)\n",
    "auc_DT=roc_auc_score(ytrain, DT_scores1)\n",
    "auc_RF=roc_auc_score(ytrain, RF_scores1)\n",
    "auc_SVM=roc_auc_score(ytrain, SVM_scores1)"
   ]
  },
  {
   "cell_type": "code",
   "execution_count": 22,
   "metadata": {},
   "outputs": [
    {
     "name": "stdout",
     "output_type": "stream",
     "text": [
      "ROC-AUC Score of Multinomial NB:  0.9841830048341882\n",
      "ROC-AUC Score of Decision Tree:  0.9227226373664524\n",
      "ROC-AUC Score of Random Forest:  0.9775158174291144\n",
      "ROC-AUC Score of Support Vector Machine:  0.9855338870518395\n"
     ]
    }
   ],
   "source": [
    "print (\"ROC-AUC Score of Multinomial NB: \",auc_MNB)\n",
    "print (\"ROC-AUC Score of Decision Tree: \",auc_DT)\n",
    "print (\"ROC-AUC Score of Random Forest: \",auc_RF)\n",
    "print (\"ROC-AUC Score of Support Vector Machine: \",auc_SVM)"
   ]
  },
  {
   "cell_type": "markdown",
   "metadata": {},
   "source": [
    "The ROC AUC score of SVM is clearly the largest, hence SVM is the best performing model followed by Decision Tree. We will optimize the hyperparameters of SVM using GridSearch. GridSearchCV is a built-in function in sklearn which allows us to find the optimal parameters of a model. "
   ]
  },
  {
   "cell_type": "markdown",
   "metadata": {},
   "source": [
    "## Hyperparameter Optimization  "
   ]
  },
  {
   "cell_type": "code",
   "execution_count": null,
   "metadata": {},
   "outputs": [],
   "source": []
  }
 ],
 "metadata": {
  "kernelspec": {
   "display_name": "Python 3",
   "language": "python",
   "name": "python3"
  },
  "language_info": {
   "codemirror_mode": {
    "name": "ipython",
    "version": 3
   },
   "file_extension": ".py",
   "mimetype": "text/x-python",
   "name": "python",
   "nbconvert_exporter": "python",
   "pygments_lexer": "ipython3",
   "version": "3.6.4"
  }
 },
 "nbformat": 4,
 "nbformat_minor": 2
}
